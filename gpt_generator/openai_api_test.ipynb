{
 "cells": [
  {
   "cell_type": "code",
   "execution_count": 8,
   "metadata": {},
   "outputs": [],
   "source": [
    "from openai import OpenAI \n",
    "import os\n",
    "\n",
    "## Set the API key and model name\n",
    "MODEL=\"gpt-4o\"\n",
    "client = OpenAI(api_key=\"sk-proj-z1o1d8qvhPquHKvHccF0T3BlbkFJfxBdo5aOXNy0k160hGuk\")\n",
    "\n",
    "input_token_price = 0.0050 / 1000\n",
    "output_token_price = 0.0150 / 1000\n",
    "\n",
    "def get_price(response):\n",
    "    input_tokens = response.usage.prompt_tokens\n",
    "    output_tokens = response.usage.completion_tokens\n",
    "    return input_tokens * input_token_price, output_tokens * output_token_price"
   ]
  },
  {
   "cell_type": "code",
   "execution_count": 9,
   "metadata": {},
   "outputs": [
    {
     "name": "stdout",
     "output_type": "stream",
     "text": [
      "Assistant: <<<\n",
      "SITUATION ANALYSIS: The ego vehicle (id 11) has been experiencing slight deceleration over the past 4 seconds, but currently shows a small acceleration in its longitudinal speed. It is traveling in its own lane without significant lateral movement. Vehicle 3 is ahead of the ego vehicle, consistently maintaining a higher speed and moving further away. Vehicle 10 is also ahead, but it is slightly slower than the ego vehicle, causing it to move closer to the ego vehicle over time. Vehicle 7 is coming from behind and it is overtaking the ego vehicle to the left.\n",
      "\n",
      "The most critical aspect to consider is vehicle 10, which is on the same lane as the ego vehicle and moving slower, causing the gap between them to close. Vehicle 7, which is overtaking to the left, also needs to be considered, but it seems to have sufficient speed to complete the maneuver without interfering with the ego vehicle’s lane change options.\n",
      "\n",
      "ACTION: SHIFT_LEFT_HOLD\n",
      "\n",
      "EXPLANATION: Given the analysis, the ego vehicle should shift one lane to the left and hold its current speed. This action reduces the risk of closing in too quickly on vehicle 10 ahead, which could result in a potential collision or necessitate a sudden deceleration. Vehicle 7's position and speed indicate it is overtaking effectively, creating sufficient space in the left lane for the ego vehicle to move into without further complications. Maintaining the current speed ensures that the ego vehicle will smoothly transition into the lane, leveraging the space on the left effectively.\n",
      "\n",
      "JSON:\n",
      "[\n",
      "    {\n",
      "        \"action\": \"SHIFT_LEFT_HOLD\",\n",
      "        \"explanation\": \"The ego vehicle should shift one lane to the left and maintain its current speed to avoid closing in on the slower vehicle (id 10) ahead. This action takes advantage of the space being created by the overtaking vehicle (id 7) to the left.\"\n",
      "    }\n",
      "]\n",
      ">>>\n"
     ]
    }
   ],
   "source": [
    "completion = client.chat.completions.create(\n",
    "  model=MODEL,\n",
    "  messages= [\n",
    "        {\n",
    "            \"role\": \"system\",\n",
    "            \"content\": \"Role:\\n\\t- You are a data scientist specialized in Autonomous Driving.\\n\\t- You hold deep and extensive knowledge of the relationship between traffic flow and the data that it generates.\\n\\t- You also have considerable experience in driving, and as such, you can evaluate the behavior of a vehicle and its driver based solely on positional data, both current and historical.\\n\\t- You have intimate knowledge about dense traffic maneuvers, such as overtakes, merging into and out of lanes and intersection traversal.\\n\\t- You possess a deep understanding of the various datasets available to the Autonomous Driving community, particularly the highD, exiD and round datasets.\\n\\t- You can reason out loud and provide in depth explanations of your chain of thought.\\n\\t- You provide meaningful and extensive answers, in which you explain everything that is required, as well as include any information you deem necessary to further support your explanation.\\n    - Your reasoning can incorporate all the information that is given in this prompt, and you are able to differentiate between past and present information when it is properly labeled.\\n\\t- Be decisive. Do not use conditionals when explaining the information. Convey uncertainty in a reasonable manner.\\n\\nInstructions:\\n\\t- The data that is used as input has a temporal spacing of 1 second. The data that is provided contains the last 5 seconds of history of the ego vehicle.\\n    - Additionally, you have information pertaining to the group of vehicles that surround the ego vehicle. A group is defined as the vehicles within a bubble of radius of 50 meters around the ego vehicle at any given instant.\\n\\t- The coordinate system is as follows:\\n\\t\\t- All positional data is relative to the vehicle marked as ego.\\n\\t\\t- The direction in which a vehicle is driving is represented by the sign of its longitudinal velocity. \\n\\t\\t- A positive value in the x coordinate means that the vehicle in consideration is ahead of the ego vehicle.\\n\\t\\t- A negative value in the x coordinate means that the vehicle in consideration is behind the ego vehicle.\\n\\t\\t- A positive value in the y coordinate means that the vehicle in consideration is on the left of the ego vehicle.\\n\\t\\t- A negative value in the y coordinate means that the vehicle in consideration is on the right of the ego vehicle.\\n\\t\\t- Small values in the y coordinate indicate that the vehicle in consideration is on the same lane as the ego vehicle\\n\\t- Road information:\\n\\t\\t- Vehicles are legally required to drive on the right lane.\\n\\t\\t- The left lane is intended to overtake only.\\n\\t\\t- The middle lane is not always present. When it is, it can be used to overtake slow traffic on the right lane.\\n\\nAnswer template:\\n    - The answer needs to have the following content:\\n        - Provide an analysis of the situation. DO NOT list every value of information you have been provided, just provide a qualitative analysis of the situation and use data whenever you need to support your reasoning.\\n        - Choose ONE possible action from the list, according to your analysis of the situation and focusing on safety and efficiency.\\n        - Provide an explanation of the action you have chosen. Support your explanation with as much data as needed.\\n    - The format of your answer is listed below, and is marked with two symbols:\\n\\t\\t- Symbol \\\"<<<\\\" marks the start of the template.\\n\\t\\t- Symbol \\\">>>\\\" marks the end of the template.\\n        - Symbol _ denotes start and end of explanation of content.\\n    - Every time you speak about a vehicle, be sure to include a reference to its ID.\\n\\n\\t- Possible actions:\\n\\t\\t- The ego vehicle can perform the following actions:\\n\\t\\t\\t- HOLD_SPEED: the ego vehicle maintains its lane and speed.\\n\\t\\t\\t- ACCELERATE: the ego vehicle maintains its lane, and accelerates.\\n\\t\\t\\t- DECELERATE: the ego vehicle maintains its lane, and slows down.\\n\\t\\t\\t- SHIFT_LEFT_HOLD: the ego vehicle shifts one lane to the left, maintaining its current speed.\\n\\t\\t\\t- SHIFT_LEFT_SLOW: the ego vehicle shifts one lane to the left, and slows down.\\n\\t\\t\\t- SHIFT_LEFT_FAST: the ego vehicle shifts one lane to the left, and accelerates.\\n\\t\\t\\t- SHIFT_RIGHT_HOLD: the ego vehicle shifts one lane to the right, maintaining its current speed.\\n\\t\\t\\t- SHIFT_RIGHT_SLOW: the ego vehicle shifts one lane to the right, and slows down.\\n\\t\\t\\t- SHIFT_RIGHT_FAST: the ego vehicle shifts one lane to the right, and accelerates.\\n\\n<<<\\nSITUATION ANALYSIS: _Include here your reasoning about the geometrical analysis of the situation, as well as any other information you deem fit_.\\nACTION: _From the list of actions stated above, choose ONE and only ONE, whichever you think fits the situation best_.\\nEXPLANATION: _Explain why you chose the action in the previous section_.\\nJSON:\\n[\\n    {\\n        \\\"action\\\": _State here the explicit name of the action_,\\n        \\\"explanation\\\": _Summarize the explanation here_,\\n    }\\n]\\n>>>\\n\\n\"\n",
    "        },\n",
    "        {\n",
    "            \"role\": \"user\",\n",
    "            \"content\": \"Vehicles present in the group have ids: 3, 7, 10, 11. The ego vehicle is vehicle with id 11.\\n\\nThe information for each vehicle is as follows:\\nAt t=-4.0 s, vehicle with id 3.0 is at position (10.919999999999987, 3.8900000000000006) with longitudinal speed 35.88 m/s and lateral speed 0.03 m/s. The longitudinal acceleration is 0.2 m/s^2 and the lateral acceleration is 0.02 m/s^2. The length of the vehicle is 3.94 m and its width is 1.92 m.\\nAt t=-4.0 s, vehicle with id 7.0 is at position (-22.600000000000023, 3.5) with longitudinal speed 32.91 m/s and lateral speed 0.16 m/s. The longitudinal acceleration is 0.37 m/s^2 and the lateral acceleration is -0.05 m/s^2. The length of the vehicle is 4.75 m and its width is 2.02 m.\\nAt t=-4.0 s, vehicle with id 10.0 is at position (18.329999999999984, -0.10999999999999943) with longitudinal speed 23.36 m/s and lateral speed 0.09 m/s. The longitudinal acceleration is 0.1 m/s^2 and the lateral acceleration is 0.09 m/s^2. The length of the vehicle is 9.2 m and its width is 2.5 m.\\nAt t=-4.0 s, vehicle with id 11.0 is at position (0.0, 0.0) with longitudinal speed 24.8 m/s and lateral speed 0.05 m/s. The longitudinal acceleration is -0.29 m/s^2 and the lateral acceleration is 0.09 m/s^2. The length of the vehicle is 4.14 m and its width is 1.92 m.\\nAt t=-3.0 s, vehicle with id 3.0 is at position (22.25999999999999, 3.8200000000000003) with longitudinal speed 36.05 m/s and lateral speed 0.04 m/s. The longitudinal acceleration is 0.13 m/s^2 and the lateral acceleration is -0.0 m/s^2. The length of the vehicle is 3.94 m and its width is 1.92 m.\\nAt t=-3.0 s, vehicle with id 7.0 is at position (-14.140000000000015, 3.509999999999998) with longitudinal speed 33.28 m/s and lateral speed 0.15 m/s. The longitudinal acceleration is 0.36 m/s^2 and the lateral acceleration is -0.01 m/s^2. The length of the vehicle is 4.75 m and its width is 2.02 m.\\nAt t=-3.0 s, vehicle with id 10.0 is at position (17.129999999999995, -0.10000000000000142) with longitudinal speed 23.35 m/s and lateral speed 0.07 m/s. The longitudinal acceleration is -0.12 m/s^2 and the lateral acceleration is -0.02 m/s^2. The length of the vehicle is 9.2 m and its width is 2.5 m.\\nAt t=-3.0 s, vehicle with id 11.0 is at position (0.0, 0.0) with longitudinal speed 24.49 m/s and lateral speed 0.11 m/s. The longitudinal acceleration is -0.33 m/s^2 and the lateral acceleration is -0.02 m/s^2. The length of the vehicle is 4.14 m and its width is 1.92 m.\\nAt t=-2.0 s, vehicle with id 3.0 is at position (34.039999999999964, 3.7799999999999976) with longitudinal speed 36.14 m/s and lateral speed 0.04 m/s. The longitudinal acceleration is 0.08 m/s^2 and the lateral acceleration is -0.01 m/s^2. The length of the vehicle is 3.94 m and its width is 1.92 m.\\nAt t=-2.0 s, vehicle with id 7.0 is at position (-5.030000000000001, 3.6099999999999994) with longitudinal speed 33.63 m/s and lateral speed 0.14 m/s. The longitudinal acceleration is 0.35000000000000003 m/s^2 and the lateral acceleration is -0.07 m/s^2. The length of the vehicle is 4.75 m and its width is 2.02 m.\\nAt t=-2.0 s, vehicle with id 10.0 is at position (16.060000000000002, -0.14000000000000057) with longitudinal speed 23.17 m/s and lateral speed 0.05 m/s. The longitudinal acceleration is -0.21 m/s^2 and the lateral acceleration is 0.03 m/s^2. The length of the vehicle is 9.2 m and its width is 2.5 m.\\nAt t=-2.0 s, vehicle with id 11.0 is at position (0.0, 0.0) with longitudinal speed 24.15 m/s and lateral speed -0.01 m/s. The longitudinal acceleration is -0.31 m/s^2 and the lateral acceleration is -0.04 m/s^2. The length of the vehicle is 4.14 m and its width is 1.92 m.\\nAt t=-1.0 s, vehicle with id 3.0 is at position (46.190000000000055, 3.8500000000000014) with longitudinal speed 36.22 m/s and lateral speed 0.02 m/s. The longitudinal acceleration is 0.08 m/s^2 and the lateral acceleration is -0.05 m/s^2. The length of the vehicle is 3.94 m and its width is 1.92 m.\\nAt t=-1.0 s, vehicle with id 7.0 is at position (4.730000000000018, 3.740000000000002) with longitudinal speed 33.96 m/s and lateral speed 0.01 m/s. The longitudinal acceleration is 0.30000000000000004 m/s^2 and the lateral acceleration is -0.1 m/s^2. The length of the vehicle is 4.75 m and its width is 2.02 m.\\nAt t=-1.0 s, vehicle with id 10.0 is at position (15.020000000000039, -0.00999999999999801) with longitudinal speed 22.95 m/s and lateral speed 0.13 m/s. The longitudinal acceleration is -0.22 m/s^2 and the lateral acceleration is -0.01 m/s^2. The length of the vehicle is 9.2 m and its width is 2.5 m.\\nAt t=-1.0 s, vehicle with id 11.0 is at position (0.0, 0.0) with longitudinal speed 23.9 m/s and lateral speed -0.02 m/s. The longitudinal acceleration is -0.14 m/s^2 and the lateral acceleration is 0.18 m/s^2. The length of the vehicle is 4.14 m and its width is 1.92 m.\\nAt t=0.0 s, vehicle with id 7.0 is at position (15.009999999999991, 3.6000000000000014) with longitudinal speed 34.21 m/s and lateral speed -0.06 m/s. The longitudinal acceleration is 0.2 m/s^2 and the lateral acceleration is -0.04 m/s^2. The length of the vehicle is 4.75 m and its width is 2.02 m.\\nAt t=0.0 s, vehicle with id 10.0 is at position (14.069999999999993, 0.019999999999999574) with longitudinal speed 22.71 m/s and lateral speed 0.05 m/s. The longitudinal acceleration is -0.26 m/s^2 and the lateral acceleration is -0.12 m/s^2. The length of the vehicle is 9.2 m and its width is 2.5 m.\\nAt t=0.0 s, vehicle with id 11.0 is at position (0.0, 0.0) with longitudinal speed 23.92 m/s and lateral speed 0.35000000000000003 m/s. The longitudinal acceleration is 0.22 m/s^2 and the lateral acceleration is 0.46 m/s^2. The length of the vehicle is 4.14 m and its width is 1.92 m.\\n\\nTask:\\n\\t- Go field by field of the answer template, and fill them out according to their explanation.\"\n",
    "        }\n",
    "    ]\n",
    ")"
   ]
  },
  {
   "cell_type": "code",
   "execution_count": 12,
   "metadata": {},
   "outputs": [
    {
     "name": "stdout",
     "output_type": "stream",
     "text": [
      "Assistant: <<<\n",
      "SITUATION ANALYSIS: The ego vehicle (id 11) has been experiencing slight deceleration over the past 4 seconds, but currently shows a small acceleration in its longitudinal speed. It is traveling in its own lane without significant lateral movement. Vehicle 3 is ahead of the ego vehicle, consistently maintaining a higher speed and moving further away. Vehicle 10 is also ahead, but it is slightly slower than the ego vehicle, causing it to move closer to the ego vehicle over time. Vehicle 7 is coming from behind and it is overtaking the ego vehicle to the left.\n",
      "\n",
      "The most critical aspect to consider is vehicle 10, which is on the same lane as the ego vehicle and moving slower, causing the gap between them to close. Vehicle 7, which is overtaking to the left, also needs to be considered, but it seems to have sufficient speed to complete the maneuver without interfering with the ego vehicle’s lane change options.\n",
      "\n",
      "ACTION: SHIFT_LEFT_HOLD\n",
      "\n",
      "EXPLANATION: Given the analysis, the ego vehicle should shift one lane to the left and hold its current speed. This action reduces the risk of closing in too quickly on vehicle 10 ahead, which could result in a potential collision or necessitate a sudden deceleration. Vehicle 7's position and speed indicate it is overtaking effectively, creating sufficient space in the left lane for the ego vehicle to move into without further complications. Maintaining the current speed ensures that the ego vehicle will smoothly transition into the lane, leveraging the space on the left effectively.\n",
      "\n",
      "JSON:\n",
      "[\n",
      "    {\n",
      "        \"action\": \"SHIFT_LEFT_HOLD\",\n",
      "        \"explanation\": \"The ego vehicle should shift one lane to the left and maintain its current speed to avoid closing in on the slower vehicle (id 10) ahead. This action takes advantage of the space being created by the overtaking vehicle (id 7) to the left.\"\n",
      "    }\n",
      "]\n",
      ">>>\n",
      "Used tokens:\n",
      "Total tokens: 3419\n",
      "Prompt tokens: 3030\n",
      "Completion tokens: 389\n"
     ]
    }
   ],
   "source": [
    "print(\"Assistant: \" + completion.choices[0].message.content)\n",
    "print(\"Used tokens:\")\n",
    "print(f\"Total tokens: {completion.usage.total_tokens}\")\n",
    "print(f\"Prompt tokens: {completion.usage.prompt_tokens}\")\n",
    "print(f\"Completion tokens: {completion.usage.completion_tokens}\")\n",
    "\n",
    "price = get_price(completion)\n",
    "print(f\"Total price: {price[0] + price[1]} USD\")\n",
    "print(f\"Input price: {price[0]} USD\")\n",
    "print(f\"Output price: {price[1]} USD\")"
   ]
  }
 ],
 "metadata": {
  "kernelspec": {
   "display_name": "openai",
   "language": "python",
   "name": "python3"
  },
  "language_info": {
   "codemirror_mode": {
    "name": "ipython",
    "version": 3
   },
   "file_extension": ".py",
   "mimetype": "text/x-python",
   "name": "python",
   "nbconvert_exporter": "python",
   "pygments_lexer": "ipython3",
   "version": "3.11.9"
  }
 },
 "nbformat": 4,
 "nbformat_minor": 2
}
