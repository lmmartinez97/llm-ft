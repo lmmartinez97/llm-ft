{
 "cells": [
  {
   "cell_type": "code",
   "execution_count": 78,
   "metadata": {},
   "outputs": [],
   "source": [
    "import warnings\n",
    "warnings.simplefilter(action='ignore', category=FutureWarning)\n",
    "\n",
    "import json\n",
    "import matplotlib as mlp\n",
    "import matplotlib.animation as animation\n",
    "import matplotlib.pyplot as plt\n",
    "import numpy as np\n",
    "import os\n",
    "import pandas as pd\n",
    "import re\n",
    "import seaborn as sns\n",
    "\n",
    "from matplotlib.patches import Rectangle, Ellipse\n",
    "from rich import print\n",
    "from time import time\n",
    "\n",
    "from typing import List, Dict, Union\n",
    "\n",
    "from read_csv import read_meta_info\n",
    "\n",
    "sns.set_theme('notebook')\n",
    "sns.set_style(\"whitegrid\")\n",
    "sns.set_context(\"paper\")\n",
    "sns.color_palette(\"hls\", 8)\n",
    "\n",
    "def print_bl():\n",
    "    print(\"\\n\")"
   ]
  },
  {
   "cell_type": "code",
   "execution_count": 125,
   "metadata": {},
   "outputs": [],
   "source": [
    "class PromptExtractor:\n",
    "    \"\"\"\n",
    "    A class that represents an entire recording of the highD dataset.\n",
    "\n",
    "    Attributes:\n",
    "        dataset_location: a path to the directory in which the dataset is stored.\n",
    "        dataset_index: index of the recording that is to be addressed\n",
    "        sampling_period: time period between sampled frames. Needs to be a multiple of 40 ms    \n",
    "    \n",
    "    \"\"\"\n",
    "    def __init__(self, dataset_location: str = None, dataset_index: int = None):\n",
    "        self.dataset_index  = dataset_index\n",
    "        self.dataset_location = dataset_location\n",
    "        self.frame_length = 40 # each frame is 40 ms\n",
    "        self.df_location = dataset_location + str(dataset_index).zfill(2) + \"_tracks.csv\"\n",
    "        self.static_info_location = dataset_location + str(dataset_index).zfill(2) + \"_tracksMeta.csv\"\n",
    "        self.video_info_location = dataset_location + str(dataset_index).zfill(2) + \"_recordingMeta.csv\"\n",
    "\n",
    "        self.data = pd.read_csv(self.df_location)\n",
    "        self.static_info = pd.read_csv(self.static_info_location)\n",
    "        self.video_info = read_meta_info(self.video_info_location)\n",
    "\n",
    "    def filter_data(self, sampling_period: int = 1000) -> pd.DataFrame:\n",
    "        \"\"\"\n",
    "        Filters the dataset with a certain sampling period.\n",
    "\n",
    "        Args:\n",
    "            sampling_period (int): The time spacing between each frame to consider.\n",
    "\n",
    "        Returns:\n",
    "            A list of dictionaries with one frame per dictionary.\n",
    "        \"\"\"\n",
    "        \n",
    "        self.sampling_period = sampling_period\n",
    "        self.frame_spacing = int(self.sampling_period / self.frame_length) #Frames are 40 ms apart\n",
    "\n",
    "        # Filter data\n",
    "        self.data = self.data[self.data.frame % self.frame_spacing == 0]\n",
    "        self.data.frame = self.data.frame / self.frame_spacing\n",
    "        self.data = self.data.astype({'frame': 'int16'})\n",
    "\n",
    "    def get_frame_windows(self, window_size: int = 5) -> List[pd.DataFrame]:\n",
    "        \"\"\"\n",
    "        Splits the dataset into windows of a certain size.\n",
    "\n",
    "        Args:\n",
    "            window_size (int): The size of the window to consider.\n",
    "\n",
    "        Returns:\n",
    "            A list of dataframes with the windows.\n",
    "        \"\"\"\n",
    "\n",
    "        self.window_size = window_size\n",
    "        self.windows = []\n",
    "\n",
    "        for i in range(1, len(self.data), window_size):\n",
    "            window = self.data[self.data['frame'].isin(range(i, i+window_size))]\n",
    "            self.windows.append(window) #no overlap\n",
    "        self.windows[0].head()\n",
    "\n",
    "    def get_groups(self, bubble_radius: float = 50.0, lookback: int = 5):\n",
    "        def in_bubble(ego_vehicle, x, radius = bubble_radius):\n",
    "            '''\n",
    "            Calculates whether a vehicle is in the bubble of the ego vehicle. Checks distance between ego vehicle and target, as well as driving direction.\n",
    "            Notation: \n",
    "                (x, y) - coordinates of the top left corner of the bounding box of the vehicle.\n",
    "                (w, h) - width and height of the bounding box.\n",
    "\n",
    "                Parameters:\n",
    "                    ego_vehicle: dataframe row with information about the ego vehicle\n",
    "                    x: dataframe row with information about the vehicle to consider\n",
    "                Returns:\n",
    "                    bool: True if the vehicle is in the bubble, False otherwise\n",
    "                    \n",
    "            '''\n",
    "            x1, y1, w1, h1 = ego_vehicle.x, ego_vehicle.y, ego_vehicle.width, ego_vehicle.height\n",
    "            x2, y2, w2, h2 = x.x, x.y, x.width, x.height\n",
    "            c1 = np.array([x1 + w1/2, y1 + h1/2])\n",
    "            c2 = np.array([x2 + w2/2, y2 + h2/2])\n",
    "            dist = np.linalg.norm(c1-c2)\n",
    "\n",
    "            return dist < radius & np.sign(x.xVelocity) == np.sign(ego_vehicle.xVelocity)\n",
    "        \n",
    "        self.bubble_radius = bubble_radius\n",
    "        self.lookback = lookback\n",
    "        \n",
    "        self.groups = []\n",
    "\n",
    "        for window in self.windows:\n",
    "            #choose ego vehicle - one present in every frame\n",
    "            ego_candidates = []\n",
    "            id_counts = window.id.value_counts().to_dict()\n",
    "            print(id_counts)\n",
    "\n",
    "            break\n",
    "            "
   ]
  },
  {
   "cell_type": "code",
   "execution_count": 126,
   "metadata": {},
   "outputs": [
    {
     "data": {
      "text/html": [
       "<pre style=\"white-space:pre;overflow-x:auto;line-height:normal;font-family:Menlo,'DejaVu Sans Mono',consolas,'Courier New',monospace\">Time elapsed is: <span style=\"color: #008080; text-decoration-color: #008080; font-weight: bold\">0.16544485092163086</span>\n",
       "</pre>\n"
      ],
      "text/plain": [
       "Time elapsed is: \u001b[1;36m0.16544485092163086\u001b[0m\n"
      ]
     },
     "metadata": {},
     "output_type": "display_data"
    },
    {
     "data": {
      "text/html": [
       "<pre style=\"white-space:pre;overflow-x:auto;line-height:normal;font-family:Menlo,'DejaVu Sans Mono',consolas,'Courier New',monospace\"><span style=\"font-weight: bold\">{</span><span style=\"color: #008080; text-decoration-color: #008080; font-weight: bold\">9</span>: <span style=\"color: #008080; text-decoration-color: #008080; font-weight: bold\">5</span>, <span style=\"color: #008080; text-decoration-color: #008080; font-weight: bold\">3</span>: <span style=\"color: #008080; text-decoration-color: #008080; font-weight: bold\">5</span>, <span style=\"color: #008080; text-decoration-color: #008080; font-weight: bold\">4</span>: <span style=\"color: #008080; text-decoration-color: #008080; font-weight: bold\">5</span>, <span style=\"color: #008080; text-decoration-color: #008080; font-weight: bold\">5</span>: <span style=\"color: #008080; text-decoration-color: #008080; font-weight: bold\">5</span>, <span style=\"color: #008080; text-decoration-color: #008080; font-weight: bold\">6</span>: <span style=\"color: #008080; text-decoration-color: #008080; font-weight: bold\">5</span>, <span style=\"color: #008080; text-decoration-color: #008080; font-weight: bold\">7</span>: <span style=\"color: #008080; text-decoration-color: #008080; font-weight: bold\">5</span>, <span style=\"color: #008080; text-decoration-color: #008080; font-weight: bold\">8</span>: <span style=\"color: #008080; text-decoration-color: #008080; font-weight: bold\">5</span>, <span style=\"color: #008080; text-decoration-color: #008080; font-weight: bold\">2</span>: <span style=\"color: #008080; text-decoration-color: #008080; font-weight: bold\">5</span>, <span style=\"color: #008080; text-decoration-color: #008080; font-weight: bold\">10</span>: <span style=\"color: #008080; text-decoration-color: #008080; font-weight: bold\">5</span>, <span style=\"color: #008080; text-decoration-color: #008080; font-weight: bold\">11</span>: <span style=\"color: #008080; text-decoration-color: #008080; font-weight: bold\">5</span>, <span style=\"color: #008080; text-decoration-color: #008080; font-weight: bold\">12</span>: <span style=\"color: #008080; text-decoration-color: #008080; font-weight: bold\">5</span>, <span style=\"color: #008080; text-decoration-color: #008080; font-weight: bold\">15</span>: <span style=\"color: #008080; text-decoration-color: #008080; font-weight: bold\">4</span>, <span style=\"color: #008080; text-decoration-color: #008080; font-weight: bold\">14</span>: <span style=\"color: #008080; text-decoration-color: #008080; font-weight: bold\">3</span>, <span style=\"color: #008080; text-decoration-color: #008080; font-weight: bold\">16</span>: <span style=\"color: #008080; text-decoration-color: #008080; font-weight: bold\">2</span>, <span style=\"color: #008080; text-decoration-color: #008080; font-weight: bold\">17</span>: <span style=\"color: #008080; text-decoration-color: #008080; font-weight: bold\">2</span>, <span style=\"color: #008080; text-decoration-color: #008080; font-weight: bold\">13</span>: <span style=\"color: #008080; text-decoration-color: #008080; font-weight: bold\">1</span>, <span style=\"color: #008080; text-decoration-color: #008080; font-weight: bold\">1</span>: <span style=\"color: #008080; text-decoration-color: #008080; font-weight: bold\">1</span><span style=\"font-weight: bold\">}</span>\n",
       "</pre>\n"
      ],
      "text/plain": [
       "\u001b[1m{\u001b[0m\u001b[1;36m9\u001b[0m: \u001b[1;36m5\u001b[0m, \u001b[1;36m3\u001b[0m: \u001b[1;36m5\u001b[0m, \u001b[1;36m4\u001b[0m: \u001b[1;36m5\u001b[0m, \u001b[1;36m5\u001b[0m: \u001b[1;36m5\u001b[0m, \u001b[1;36m6\u001b[0m: \u001b[1;36m5\u001b[0m, \u001b[1;36m7\u001b[0m: \u001b[1;36m5\u001b[0m, \u001b[1;36m8\u001b[0m: \u001b[1;36m5\u001b[0m, \u001b[1;36m2\u001b[0m: \u001b[1;36m5\u001b[0m, \u001b[1;36m10\u001b[0m: \u001b[1;36m5\u001b[0m, \u001b[1;36m11\u001b[0m: \u001b[1;36m5\u001b[0m, \u001b[1;36m12\u001b[0m: \u001b[1;36m5\u001b[0m, \u001b[1;36m15\u001b[0m: \u001b[1;36m4\u001b[0m, \u001b[1;36m14\u001b[0m: \u001b[1;36m3\u001b[0m, \u001b[1;36m16\u001b[0m: \u001b[1;36m2\u001b[0m, \u001b[1;36m17\u001b[0m: \u001b[1;36m2\u001b[0m, \u001b[1;36m13\u001b[0m: \u001b[1;36m1\u001b[0m, \u001b[1;36m1\u001b[0m: \u001b[1;36m1\u001b[0m\u001b[1m}\u001b[0m\n"
      ]
     },
     "metadata": {},
     "output_type": "display_data"
    },
    {
     "data": {
      "text/html": [
       "<pre style=\"white-space:pre;overflow-x:auto;line-height:normal;font-family:Menlo,'DejaVu Sans Mono',consolas,'Courier New',monospace\">Time elapsed is: <span style=\"color: #008080; text-decoration-color: #008080; font-weight: bold\">0.8104608058929443</span>\n",
       "</pre>\n"
      ],
      "text/plain": [
       "Time elapsed is: \u001b[1;36m0.8104608058929443\u001b[0m\n"
      ]
     },
     "metadata": {},
     "output_type": "display_data"
    }
   ],
   "source": [
    "dataset_location = \"/home/lmmartinez/Tesis/datasets/highD/data/\"\n",
    "dataset_index = 1\n",
    "start = time()\n",
    "scene_data = PromptExtractor(dataset_location=dataset_location, dataset_index=dataset_index)\n",
    "end = time()\n",
    "print(\"Time elapsed is:\", end - start)\n",
    "start = time()\n",
    "scene_data.filter_data(sampling_period=1000)\n",
    "scene_data.get_frame_windows(window_size=5)\n",
    "scene_data.get_groups()\n",
    "end = time()\n",
    "print(\"Time elapsed is:\", end - start)"
   ]
  },
  {
   "cell_type": "code",
   "execution_count": 117,
   "metadata": {},
   "outputs": [],
   "source": [
    "scene_data.windows[0].to_csv(\"window.csv\")"
   ]
  },
  {
   "cell_type": "code",
   "execution_count": null,
   "metadata": {},
   "outputs": [],
   "source": []
  }
 ],
 "metadata": {
  "kernelspec": {
   "display_name": "phd_thesis",
   "language": "python",
   "name": "python3"
  },
  "language_info": {
   "codemirror_mode": {
    "name": "ipython",
    "version": 3
   },
   "file_extension": ".py",
   "mimetype": "text/x-python",
   "name": "python",
   "nbconvert_exporter": "python",
   "pygments_lexer": "ipython3",
   "version": "3.10.13"
  }
 },
 "nbformat": 4,
 "nbformat_minor": 2
}
