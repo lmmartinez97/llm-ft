{
 "cells": [
  {
   "cell_type": "code",
   "execution_count": 3,
   "metadata": {},
   "outputs": [],
   "source": [
    "import openai\n",
    "import json\n",
    "import os\n",
    "\n",
    "openai_key = \"sk-proj-z1o1d8qvhPquHKvHccF0T3BlbkFJfxBdo5aOXNy0k160hGuk\""
   ]
  },
  {
   "cell_type": "code",
   "execution_count": 5,
   "metadata": {},
   "outputs": [],
   "source": [
    "class JSONLoader:\n",
    "    \"\"\"\n",
    "    A class to load and process JSON files from a specified folder.\n",
    "\n",
    "    Attributes:\n",
    "    folder_path (str): The path to the folder containing JSON files.\n",
    "    data (list): A list to store the loaded data from JSON files.\n",
    "    \"\"\"\n",
    "    \n",
    "    def __init__(self, folder_path):\n",
    "        \"\"\"\n",
    "        The constructor for JSONLoader class.\n",
    "\n",
    "        Parameters:\n",
    "        folder_path (str): The path to the folder containing JSON files.\n",
    "        \"\"\"\n",
    "        self.folder_path = folder_path\n",
    "        self.data = []\n",
    "\n",
    "    def load_files(self):\n",
    "        \"\"\"\n",
    "        Loads all JSON files from the specified folder and stores their contents in the data attribute.\n",
    "\n",
    "        Raises:\n",
    "        FileNotFoundError: If the folder path does not exist.\n",
    "        JSONDecodeError: If a JSON file is not properly formatted.\n",
    "        \"\"\"\n",
    "        if not os.path.exists(self.folder_path):\n",
    "            raise FileNotFoundError(f\"The folder path {self.folder_path} does not exist.\")\n",
    "\n",
    "        # List all files in the folder\n",
    "        files = [file for file in os.listdir(self.folder_path) if file.endswith('.json')]\n",
    "        \n",
    "        for file in files:\n",
    "            file_path = os.path.join(self.folder_path, file)\n",
    "            try:\n",
    "                with open(file_path, 'r') as f:\n",
    "                    # Load JSON data from file\n",
    "                    json_data = json.load(f)\n",
    "                    self.data.extend(json_data)  # Add items to the main data list\n",
    "            except json.JSONDecodeError:\n",
    "                print(f\"Error decoding JSON from file: {file_path}\")\n",
    "            except Exception as e:\n",
    "                print(f\"An error occurred while reading file {file_path}: {e}\")\n",
    "\n",
    "    def get_data(self):\n",
    "        \"\"\"\n",
    "        Returns the loaded data.\n",
    "\n",
    "        Returns:\n",
    "        list: A list containing the loaded data from all JSON files.\n",
    "        \"\"\"\n",
    "        return self.data"
   ]
  },
  {
   "cell_type": "code",
   "execution_count": 6,
   "metadata": {},
   "outputs": [
    {
     "name": "stdout",
     "output_type": "stream",
     "text": [
      "{'group_index': 457, 'prompt': [{'role': 'system', 'content': 'Role:\\n\\t- You are a data scientist specialized in Autonomous Driving.\\n\\t- You hold deep and extensive knowledge of the relationship between traffic flow and the data that it generates.\\n\\t- You also have considerable experience in driving, and as such, you can evaluate the behavior of a vehicle and its driver based solely on positional data, both current and historical.\\n\\t- You have intimate knowledge about dense traffic maneuvers, such as overtakes, merging into and out of lanes and intersection traversal.\\n\\t- You possess a deep understanding of the various datasets available to the Autonomous Driving community, particularly the highD, exiD and round datasets.\\n\\t- You can reason out loud and provide in depth explanations of your chain of thought.\\n\\t- You provide meaningful and extensive answers, in which you explain everything that is required, as well as include any information you deem necessary to further support your explanation.\\n    - Your reasoning can incorporate all the information that is given in this prompt, and you are able to differentiate between past and present information when it is properly labeled.\\n\\t- Be decisive. Do not use conditionals when explaining the information. Convey uncertainty in a reasonable manner.\\n\\nInstructions:\\n\\t- The data that is used as input has a temporal spacing of 1 second. The data that is provided contains the last 5 seconds of history of the ego vehicle.\\n    - Additionally, you have information pertaining to the group of vehicles that surround the ego vehicle. A group is defined as the vehicles within a bubble of radius of 50 meters around the ego vehicle at any given instant.\\n\\t- The coordinate system is as follows:\\n\\t\\t- All positional data is relative to the vehicle marked as ego.\\n\\t\\t- The direction in which a vehicle is driving is represented by the sign of its longitudinal velocity. \\n\\t\\t- A positive value in the x coordinate means that the vehicle in consideration is ahead of the ego vehicle.\\n\\t\\t- A negative value in the x coordinate means that the vehicle in consideration is behind the ego vehicle.\\n\\t\\t- A positive value in the y coordinate means that the vehicle in consideration is on the left of the ego vehicle.\\n\\t\\t- A negative value in the y coordinate means that the vehicle in consideration is on the right of the ego vehicle.\\n\\t\\t- Small values in the y coordinate indicate that the vehicle in consideration is on the same lane as the ego vehicle\\n\\t- Road information:\\n\\t\\t- Vehicles are legally required to drive on the right lane.\\n\\t\\t- The left lane is intended to overtake only.\\n\\t\\t- The middle lane is not always present. When it is, it can be used to overtake slow traffic on the right lane.\\n\\nAnswer template:\\n    - The answer needs to have the following content:\\n        - Provide an analysis of the situation. DO NOT list every value of information you have been provided, just provide a qualitative analysis of the situation and use data whenever you need to support your reasoning.\\n        - Choose ONE possible action from the list, according to your analysis of the situation and focusing on safety and efficiency.\\n        - Provide an explanation of the action you have chosen. Support your explanation with as much data as needed.\\n    - The format of your answer is listed below, and is marked with two symbols:\\n\\t\\t- Symbol \"<<<\" marks the start of the template.\\n\\t\\t- Symbol \">>>\" marks the end of the template.\\n        - Symbol _ denotes start and end of explanation of content.\\n    - Every time you speak about a vehicle, be sure to include a reference to its ID.\\n\\n\\t- Possible actions:\\n\\t\\t- The ego vehicle can perform the following actions:\\n\\t\\t\\t- HOLD_SPEED: the ego vehicle maintains its lane and speed.\\n\\t\\t\\t- ACCELERATE: the ego vehicle maintains its lane, and accelerates.\\n\\t\\t\\t- DECELERATE: the ego vehicle maintains its lane, and slows down.\\n\\t\\t\\t- SHIFT_LEFT_HOLD: the ego vehicle shifts one lane to the left, maintaining its current speed.\\n\\t\\t\\t- SHIFT_LEFT_SLOW: the ego vehicle shifts one lane to the left, and slows down.\\n\\t\\t\\t- SHIFT_LEFT_FAST: the ego vehicle shifts one lane to the left, and accelerates.\\n\\t\\t\\t- SHIFT_RIGHT_HOLD: the ego vehicle shifts one lane to the right, maintaining its current speed.\\n\\t\\t\\t- SHIFT_RIGHT_SLOW: the ego vehicle shifts one lane to the right, and slows down.\\n\\t\\t\\t- SHIFT_RIGHT_FAST: the ego vehicle shifts one lane to the right, and accelerates.\\n\\n<<<\\nSITUATION ANALYSIS: _Include here your reasoning about the geometrical analysis of the situation, as well as any other information you deem fit_.\\nACTION: _From the list of actions stated above, choose ONE and only ONE, whichever you think fits the situation best_.\\nEXPLANATION: _Explain why you chose the action in the previous section_.\\nJSON:\\n[\\n    {\\n        \"action\": _State here the explicit name of the action_,\\n        \"explanation\": _Summarize the explanation here_,\\n    }\\n]\\n>>>\\n\\n'}, {'role': 'user', 'content': 'Vehicles present in the group have ids: 2562, 2563, 2564, 2566, 2568, 2569, 2571, 2572, 2573, 2575, 2577. The ego vehicle is vehicle with id 2571.\\n\\nThe information for each vehicle is as follows:\\nAt t=-4.0 s, vehicle with id 2562.0 is at position (43.30, -4.14) with longitudinal speed 22.90 m/s and lateral speed -0.06 m/s. The longitudinal acceleration is -0.14 m/s^2 and the lateral acceleration is 0.04 m/s^2. The length of the vehicle is 4.95 m and its width is 1.87 m.\\nAt t=-4.0 s, vehicle with id 2563.0 is at position (47.92, -0.21) with longitudinal speed 23.74 m/s and lateral speed 0.03 m/s. The longitudinal acceleration is -0.14 m/s^2 and the lateral acceleration is 0.02 m/s^2. The length of the vehicle is 4.14 m and its width is 1.92 m.\\nAt t=-4.0 s, vehicle with id 2564.0 is at position (39.31, 3.32) with longitudinal speed 23.92 m/s and lateral speed -0.14 m/s. The longitudinal acceleration is 0.50 m/s^2 and the lateral acceleration is 0.11 m/s^2. The length of the vehicle is 3.64 m and its width is 1.72 m.\\nAt t=-4.0 s, vehicle with id 2566.0 is at position (25.33, 4.28) with longitudinal speed 22.82 m/s and lateral speed -0.02 m/s. The longitudinal acceleration is 0.08 m/s^2 and the lateral acceleration is 0.03 m/s^2. The length of the vehicle is 3.13 m and its width is 1.72 m.\\nAt t=-4.0 s, vehicle with id 2568.0 is at position (10.48, 3.93) with longitudinal speed 23.19 m/s and lateral speed 0.00 m/s. The longitudinal acceleration is -0.34 m/s^2 and the lateral acceleration is -0.01 m/s^2. The length of the vehicle is 4.24 m and its width is 1.82 m.\\nAt t=-4.0 s, vehicle with id 2569.0 is at position (3.76, -3.72) with longitudinal speed 25.01 m/s and lateral speed -0.03 m/s. The longitudinal acceleration is -0.53 m/s^2 and the lateral acceleration is -0.03 m/s^2. The length of the vehicle is 4.35 m and its width is 1.82 m.\\nAt t=-4.0 s, vehicle with id 2571.0 is at position (0.00, 0.00) with longitudinal speed 25.95 m/s and lateral speed -0.08 m/s. The longitudinal acceleration is -0.39 m/s^2 and the lateral acceleration is -0.02 m/s^2. The length of the vehicle is 4.65 m and its width is 1.92 m.\\nAt t=-4.0 s, vehicle with id 2572.0 is at position (-12.98, 3.75) with longitudinal speed 24.16 m/s and lateral speed -0.09 m/s. The longitudinal acceleration is -0.11 m/s^2 and the lateral acceleration is -0.05 m/s^2. The length of the vehicle is 4.65 m and its width is 1.82 m.\\nAt t=-4.0 s, vehicle with id 2573.0 is at position (-23.64, -0.67) with longitudinal speed 25.42 m/s and lateral speed -0.08 m/s. The longitudinal acceleration is 0.10 m/s^2 and the lateral acceleration is -0.04 m/s^2. The length of the vehicle is 6.47 m and its width is 2.53 m.\\nAt t=-4.0 s, vehicle with id 2575.0 is at position (-31.15, -3.79) with longitudinal speed 25.71 m/s and lateral speed -0.14 m/s. The longitudinal acceleration is -0.36 m/s^2 and the lateral acceleration is 0.01 m/s^2. The length of the vehicle is 5.15 m and its width is 2.02 m.\\nAt t=-4.0 s, vehicle with id 2577.0 is at position (-47.98, 3.72) with longitudinal speed 23.96 m/s and lateral speed 0.00 m/s. The longitudinal acceleration is -0.29 m/s^2 and the lateral acceleration is -0.03 m/s^2. The length of the vehicle is 4.65 m and its width is 1.82 m.\\nAt t=-3.0 s, vehicle with id 2562.0 is at position (40.37, -4.08) with longitudinal speed 22.76 m/s and lateral speed 0.03 m/s. The longitudinal acceleration is -0.12 m/s^2 and the lateral acceleration is 0.06 m/s^2. The length of the vehicle is 4.95 m and its width is 1.87 m.\\nAt t=-3.0 s, vehicle with id 2563.0 is at position (45.81, -0.09) with longitudinal speed 23.63 m/s and lateral speed 0.05 m/s. The longitudinal acceleration is -0.09 m/s^2 and the lateral acceleration is -0.02 m/s^2. The length of the vehicle is 4.14 m and its width is 1.92 m.\\nAt t=-3.0 s, vehicle with id 2564.0 is at position (37.72, 3.32) with longitudinal speed 24.50 m/s and lateral speed 0.05 m/s. The longitudinal acceleration is 0.67 m/s^2 and the lateral acceleration is 0.20 m/s^2. The length of the vehicle is 3.64 m and its width is 1.72 m.\\nAt t=-3.0 s, vehicle with id 2566.0 is at position (22.55, 4.36) with longitudinal speed 23.00 m/s and lateral speed -0.02 m/s. The longitudinal acceleration is 0.25 m/s^2 and the lateral acceleration is -0.02 m/s^2. The length of the vehicle is 3.13 m and its width is 1.72 m.\\nAt t=-3.0 s, vehicle with id 2568.0 is at position (7.79, 4.01) with longitudinal speed 22.86 m/s and lateral speed -0.02 m/s. The longitudinal acceleration is -0.29 m/s^2 and the lateral acceleration is -0.02 m/s^2. The length of the vehicle is 4.24 m and its width is 1.82 m.\\nAt t=-3.0 s, vehicle with id 2569.0 is at position (2.72, -3.69) with longitudinal speed 24.48 m/s and lateral speed -0.07 m/s. The longitudinal acceleration is -0.53 m/s^2 and the lateral acceleration is -0.01 m/s^2. The length of the vehicle is 4.35 m and its width is 1.82 m.\\nAt t=-3.0 s, vehicle with id 2571.0 is at position (0.00, 0.00) with longitudinal speed 25.54 m/s and lateral speed -0.08 m/s. The longitudinal acceleration is -0.42 m/s^2 and the lateral acceleration is 0.03 m/s^2. The length of the vehicle is 4.65 m and its width is 1.92 m.\\nAt t=-3.0 s, vehicle with id 2572.0 is at position (-14.69, 3.71) with longitudinal speed 24.04 m/s and lateral speed -0.10 m/s. The longitudinal acceleration is -0.15 m/s^2 and the lateral acceleration is 0.04 m/s^2. The length of the vehicle is 4.65 m and its width is 1.82 m.\\nAt t=-3.0 s, vehicle with id 2573.0 is at position (-23.92, -0.70) with longitudinal speed 25.49 m/s and lateral speed -0.14 m/s. The longitudinal acceleration is -0.01 m/s^2 and the lateral acceleration is -0.03 m/s^2. The length of the vehicle is 6.47 m and its width is 2.53 m.\\nAt t=-3.0 s, vehicle with id 2575.0 is at position (-31.34, -3.84) with longitudinal speed 25.32 m/s and lateral speed -0.14 m/s. The longitudinal acceleration is -0.41 m/s^2 and the lateral acceleration is 0.00 m/s^2. The length of the vehicle is 5.15 m and its width is 2.02 m.\\nAt t=-2.0 s, vehicle with id 2562.0 is at position (37.75, -3.96) with longitudinal speed 22.67 m/s and lateral speed 0.07 m/s. The longitudinal acceleration is -0.06 m/s^2 and the lateral acceleration is 0.00 m/s^2. The length of the vehicle is 4.95 m and its width is 1.87 m.\\nAt t=-2.0 s, vehicle with id 2563.0 is at position (44.10, -0.01) with longitudinal speed 23.53 m/s and lateral speed -0.01 m/s. The longitudinal acceleration is -0.14 m/s^2 and the lateral acceleration is -0.05 m/s^2. The length of the vehicle is 4.14 m and its width is 1.92 m.\\nAt t=-2.0 s, vehicle with id 2564.0 is at position (37.27, 3.55) with longitudinal speed 25.25 m/s and lateral speed 0.26 m/s. The longitudinal acceleration is 0.82 m/s^2 and the lateral acceleration is 0.12 m/s^2. The length of the vehicle is 3.64 m and its width is 1.72 m.\\nAt t=-2.0 s, vehicle with id 2566.0 is at position (20.35, 4.35) with longitudinal speed 23.34 m/s and lateral speed -0.07 m/s. The longitudinal acceleration is 0.49 m/s^2 and the lateral acceleration is 0.00 m/s^2. The length of the vehicle is 3.13 m and its width is 1.72 m.\\nAt t=-2.0 s, vehicle with id 2568.0 is at position (5.13, 4.03) with longitudinal speed 22.68 m/s and lateral speed -0.04 m/s. The longitudinal acceleration is -0.03 m/s^2 and the lateral acceleration is -0.01 m/s^2. The length of the vehicle is 4.24 m and its width is 1.82 m.\\nAt t=-2.0 s, vehicle with id 2569.0 is at position (1.60, -3.71) with longitudinal speed 23.95 m/s and lateral speed -0.04 m/s. The longitudinal acceleration is -0.51 m/s^2 and the lateral acceleration is 0.04 m/s^2. The length of the vehicle is 4.35 m and its width is 1.82 m.\\nAt t=-2.0 s, vehicle with id 2571.0 is at position (0.00, 0.00) with longitudinal speed 25.11 m/s and lateral speed -0.02 m/s. The longitudinal acceleration is -0.41 m/s^2 and the lateral acceleration is 0.05 m/s^2. The length of the vehicle is 4.65 m and its width is 1.92 m.\\nAt t=-2.0 s, vehicle with id 2572.0 is at position (-15.98, 3.72) with longitudinal speed 23.82 m/s and lateral speed 0.00 m/s. The longitudinal acceleration is -0.32 m/s^2 and the lateral acceleration is 0.05 m/s^2. The length of the vehicle is 4.65 m and its width is 1.82 m.\\nAt t=-2.0 s, vehicle with id 2573.0 is at position (-23.74, -0.81) with longitudinal speed 25.35 m/s and lateral speed -0.16 m/s. The longitudinal acceleration is -0.30 m/s^2 and the lateral acceleration is 0.04 m/s^2. The length of the vehicle is 6.47 m and its width is 2.53 m.\\nAt t=-2.0 s, vehicle with id 2575.0 is at position (-31.61, -3.94) with longitudinal speed 24.91 m/s and lateral speed -0.14 m/s. The longitudinal acceleration is -0.41 m/s^2 and the lateral acceleration is 0.02 m/s^2. The length of the vehicle is 5.15 m and its width is 2.02 m.\\nAt t=-1.0 s, vehicle with id 2562.0 is at position (35.48, -3.91) with longitudinal speed 22.64 m/s and lateral speed 0.05 m/s. The longitudinal acceleration is -0.01 m/s^2 and the lateral acceleration is -0.03 m/s^2. The length of the vehicle is 4.95 m and its width is 1.87 m.\\nAt t=-1.0 s, vehicle with id 2563.0 is at position (42.69, -0.06) with longitudinal speed 23.33 m/s and lateral speed -0.07 m/s. The longitudinal acceleration is -0.26 m/s^2 and the lateral acceleration is -0.05 m/s^2. The length of the vehicle is 4.14 m and its width is 1.92 m.\\nAt t=-1.0 s, vehicle with id 2564.0 is at position (38.02, 3.84) with longitudinal speed 26.12 m/s and lateral speed 0.33 m/s. The longitudinal acceleration is 0.89 m/s^2 and the lateral acceleration is -0.01 m/s^2. The length of the vehicle is 3.64 m and its width is 1.72 m.\\nAt t=-1.0 s, vehicle with id 2566.0 is at position (19.02, 4.28) with longitudinal speed 23.98 m/s and lateral speed -0.02 m/s. The longitudinal acceleration is 0.78 m/s^2 and the lateral acceleration is 0.06 m/s^2. The length of the vehicle is 3.13 m and its width is 1.72 m.\\nAt t=-1.0 s, vehicle with id 2568.0 is at position (2.95, 3.98) with longitudinal speed 22.77 m/s and lateral speed -0.04 m/s. The longitudinal acceleration is 0.22 m/s^2 and the lateral acceleration is 0.00 m/s^2. The length of the vehicle is 4.24 m and its width is 1.82 m.\\nAt t=-1.0 s, vehicle with id 2569.0 is at position (0.40, -3.73) with longitudinal speed 23.45 m/s and lateral speed 0.01 m/s. The longitudinal acceleration is -0.48 m/s^2 and the lateral acceleration is 0.04 m/s^2. The length of the vehicle is 4.35 m and its width is 1.82 m.\\nAt t=-1.0 s, vehicle with id 2571.0 is at position (0.00, 0.00) with longitudinal speed 24.73 m/s and lateral speed 0.04 m/s. The longitudinal acceleration is -0.35 m/s^2 and the lateral acceleration is 0.03 m/s^2. The length of the vehicle is 4.65 m and its width is 1.92 m.\\nAt t=-1.0 s, vehicle with id 2572.0 is at position (-17.23, 3.73) with longitudinal speed 23.46 m/s and lateral speed 0.03 m/s. The longitudinal acceleration is -0.35 m/s^2 and the lateral acceleration is 0.01 m/s^2. The length of the vehicle is 4.65 m and its width is 1.82 m.\\nAt t=-1.0 s, vehicle with id 2573.0 is at position (-23.45, -0.94) with longitudinal speed 24.95 m/s and lateral speed -0.05 m/s. The longitudinal acceleration is -0.45 m/s^2 and the lateral acceleration is 0.12 m/s^2. The length of the vehicle is 6.47 m and its width is 2.53 m.\\nAt t=-1.0 s, vehicle with id 2575.0 is at position (-31.78, -4.08) with longitudinal speed 24.50 m/s and lateral speed -0.12 m/s. The longitudinal acceleration is -0.41 m/s^2 and the lateral acceleration is 0.05 m/s^2. The length of the vehicle is 5.15 m and its width is 2.02 m.\\nAt t=0.0 s, vehicle with id 2562.0 is at position (33.58, -3.92) with longitudinal speed 22.65 m/s and lateral speed 0.01 m/s. The longitudinal acceleration is 0.03 m/s^2 and the lateral acceleration is -0.05 m/s^2. The length of the vehicle is 4.95 m and its width is 1.87 m.\\nAt t=0.0 s, vehicle with id 2563.0 is at position (41.34, -0.20) with longitudinal speed 23.04 m/s and lateral speed -0.13 m/s. The longitudinal acceleration is -0.28 m/s^2 and the lateral acceleration is -0.01 m/s^2. The length of the vehicle is 4.14 m and its width is 1.92 m.\\nAt t=0.0 s, vehicle with id 2564.0 is at position (39.98, 4.13) with longitudinal speed 26.99 m/s and lateral speed 0.22 m/s. The longitudinal acceleration is 0.80 m/s^2 and the lateral acceleration is -0.20 m/s^2. The length of the vehicle is 3.64 m and its width is 1.72 m.\\nAt t=0.0 s, vehicle with id 2566.0 is at position (18.90, 4.28) with longitudinal speed 24.83 m/s and lateral speed 0.06 m/s. The longitudinal acceleration is 0.87 m/s^2 and the lateral acceleration is 0.02 m/s^2. The length of the vehicle is 3.13 m and its width is 1.72 m.\\nAt t=0.0 s, vehicle with id 2568.0 is at position (1.31, 3.91) with longitudinal speed 23.11 m/s and lateral speed -0.04 m/s. The longitudinal acceleration is 0.47 m/s^2 and the lateral acceleration is -0.02 m/s^2. The length of the vehicle is 4.24 m and its width is 1.82 m.\\nAt t=0.0 s, vehicle with id 2569.0 is at position (-0.92, -3.74) with longitudinal speed 22.99 m/s and lateral speed 0.04 m/s. The longitudinal acceleration is -0.43 m/s^2 and the lateral acceleration is 0.02 m/s^2. The length of the vehicle is 4.35 m and its width is 1.82 m.\\nAt t=0.0 s, vehicle with id 2571.0 is at position (0.00, 0.00) with longitudinal speed 24.41 m/s and lateral speed 0.04 m/s. The longitudinal acceleration is -0.27 m/s^2 and the lateral acceleration is -0.02 m/s^2. The length of the vehicle is 4.65 m and its width is 1.92 m.\\nAt t=0.0 s, vehicle with id 2572.0 is at position (-18.52, 3.71) with longitudinal speed 23.20 m/s and lateral speed 0.02 m/s. The longitudinal acceleration is -0.13 m/s^2 and the lateral acceleration is -0.02 m/s^2. The length of the vehicle is 4.65 m and its width is 1.82 m.\\nAt t=0.0 s, vehicle with id 2573.0 is at position (-23.31, -0.95) with longitudinal speed 24.52 m/s and lateral speed 0.10 m/s. The longitudinal acceleration is -0.37 m/s^2 and the lateral acceleration is 0.06 m/s^2. The length of the vehicle is 6.47 m and its width is 2.53 m.\\nAt t=0.0 s, vehicle with id 2575.0 is at position (-32.03, -4.21) with longitudinal speed 24.10 m/s and lateral speed -0.03 m/s. The longitudinal acceleration is -0.40 m/s^2 and the lateral acceleration is 0.09 m/s^2. The length of the vehicle is 5.15 m and its width is 2.02 m.\\n\\nTask:\\n\\t- Go field by field of the answer template, and fill them out according to their explanation.'}]}\n"
     ]
    }
   ],
   "source": [
    "folder_path = '../data/generation_1000_lookback5'  # Change this to the path of your folder\n",
    "loader = JSONLoader(folder_path)\n",
    "loader.load_files()\n",
    "data = loader.get_data()\n",
    "\n",
    "print(data[0])"
   ]
  }
 ],
 "metadata": {
  "kernelspec": {
   "display_name": "phd_thesis",
   "language": "python",
   "name": "python3"
  },
  "language_info": {
   "codemirror_mode": {
    "name": "ipython",
    "version": 3
   },
   "file_extension": ".py",
   "mimetype": "text/x-python",
   "name": "python",
   "nbconvert_exporter": "python",
   "pygments_lexer": "ipython3",
   "version": "3.11.9"
  }
 },
 "nbformat": 4,
 "nbformat_minor": 2
}
